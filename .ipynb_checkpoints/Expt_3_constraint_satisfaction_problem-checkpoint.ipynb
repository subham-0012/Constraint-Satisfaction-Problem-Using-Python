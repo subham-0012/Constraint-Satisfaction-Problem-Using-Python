{
 "cells": [
  {
   "cell_type": "code",
   "execution_count": 1,
   "id": "dc67cf39",
   "metadata": {},
   "outputs": [],
   "source": [
    "import constraint"
   ]
  },
  {
   "cell_type": "code",
   "execution_count": 2,
   "id": "9aa52baf",
   "metadata": {},
   "outputs": [
    {
     "name": "stdout",
     "output_type": "stream",
     "text": [
      "Number of solutions found: 7\n",
      "\n",
      "T = 7, W = 6, O = 5, F = 1, U = 3, R = 0\n",
      "T = 7, W = 3, O = 4, F = 1, U = 6, R = 8\n",
      "T = 8, W = 6, O = 7, F = 1, U = 3, R = 4\n",
      "T = 8, W = 4, O = 6, F = 1, U = 9, R = 2\n",
      "T = 8, W = 3, O = 6, F = 1, U = 7, R = 2\n",
      "T = 9, W = 2, O = 8, F = 1, U = 5, R = 6\n",
      "T = 9, W = 3, O = 8, F = 1, U = 7, R = 6\n"
     ]
    }
   ],
   "source": [
    "problem = constraint.Problem()\n",
    "problem.addVariables(\"TF\", range(1, 10))\n",
    "problem.addVariables(\"WOUR\", range(10))\n",
    "def sum_constraint(t, w, o, f, u, r):\n",
    "    if 2*(t*100 + w*10 + o) == f*1000 + o*100 + u*10 + r:\n",
    "        return True\n",
    "problem.addConstraint(sum_constraint, \"TWOFUR\")\n",
    "problem.addConstraint(constraint.AllDifferentConstraint())\n",
    "solutions = problem.getSolutions()\n",
    "print(\"Number of solutions found: {}\\n\".format(len(solutions)))\n",
    "for s in solutions:\n",
    "    print(\"T = {}, W = {}, O = {}, F = {}, U = {}, R = {}\"\n",
    "        .format(s['T'], s['W'], s['O'], s['F'], s['U'], s['R']))"
   ]
  },
  {
   "cell_type": "code",
   "execution_count": null,
   "id": "98e0e1e7",
   "metadata": {},
   "outputs": [],
   "source": []
  }
 ],
 "metadata": {
  "kernelspec": {
   "display_name": "Python 3 (ipykernel)",
   "language": "python",
   "name": "python3"
  },
  "language_info": {
   "codemirror_mode": {
    "name": "ipython",
    "version": 3
   },
   "file_extension": ".py",
   "mimetype": "text/x-python",
   "name": "python",
   "nbconvert_exporter": "python",
   "pygments_lexer": "ipython3",
   "version": "3.9.7"
  }
 },
 "nbformat": 4,
 "nbformat_minor": 5
}
